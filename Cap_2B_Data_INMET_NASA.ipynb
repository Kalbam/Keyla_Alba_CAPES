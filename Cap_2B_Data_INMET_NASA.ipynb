{
 "cells": [
  {
   "cell_type": "markdown",
   "metadata": {},
   "source": [
    "## **Comportamiento Radiación Solar INMET**"
   ]
  },
  {
   "cell_type": "code",
   "execution_count": null,
   "metadata": {},
   "outputs": [],
   "source": [
    "fig_INMET = px.line(\n",
    "    df_INMET,\n",
    "    x='datetime',\n",
    "    y='RADIACAO_GLOBAL',\n",
    "    title='Radiación Global (KJ/m²) por Hora INMET (2019 a Febrero 2025)',\n",
    "    labels={\n",
    "        'datetime': 'Fecha y Hora',\n",
    "        'RADIACAO_GLOBAL': 'Radiación (KJ/m²)'\n",
    "    }\n",
    ")\n",
    "fig_INMET.update_layout(template='plotly_white', width=1100, height=500)\n",
    "fig_INMET.show()"
   ]
  },
  {
   "cell_type": "markdown",
   "metadata": {},
   "source": [
    "## **Comportamiento Radiación Solar NASA**"
   ]
  },
  {
   "cell_type": "code",
   "execution_count": null,
   "metadata": {},
   "outputs": [],
   "source": [
    "fig_nasa = px.line(\n",
    "    df_NASA,\n",
    "    x='datetime',\n",
    "    y='ALLSKY_SFC_SW_DWN',\n",
    "    title='Radiación Horaria NASA (2019-2025)',\n",
    "    labels={'datetime': 'Fecha y hora', 'ALLSKY_SFC_SW_DWN': 'Radiación (W/m²)'}\n",
    ")\n",
    "fig_nasa.update_layout(template='plotly_white', width=1100, height=500)\n",
    "fig_nasa.show()"
   ]
  }
 ],
 "metadata": {
  "kernelspec": {
   "display_name": "Python 3 (ipykernel)",
   "language": "python",
   "name": "python3"
  },
  "language_info": {
   "codemirror_mode": {
    "name": "ipython",
    "version": 3
   },
   "file_extension": ".py",
   "mimetype": "text/x-python",
   "name": "python",
   "nbconvert_exporter": "python",
   "pygments_lexer": "ipython3",
   "version": "3.9.21"
  }
 },
 "nbformat": 4,
 "nbformat_minor": 4
}
